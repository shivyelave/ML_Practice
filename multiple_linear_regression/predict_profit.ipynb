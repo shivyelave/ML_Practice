{
 "cells": [
  {
   "cell_type": "markdown",
   "metadata": {},
   "source": [
    "'''\n",
    "\n",
    "\n",
    "    @Author: Shivraj Yelave\n",
    "    @Date: 30-09-24\n",
    "    @Last modified by: Shivraj Yelave\n",
    "    @Last modified time: \n",
    "    @Title: Multiple Linear Regression Predict Profit\n",
    "\n",
    "\n",
    "'''\n"
   ]
  },
  {
   "cell_type": "markdown",
   "metadata": {},
   "source": [
    "### Import modules"
   ]
  },
  {
   "cell_type": "code",
   "execution_count": 2,
   "metadata": {},
   "outputs": [],
   "source": [
    "import numpy as np\n",
    "import pandas as pd\n",
    "import statistics as st\n",
    "from sklearn.preprocessing import OneHotEncoder,StandardScaler,LabelEncoder\n",
    "from sklearn.model_selection import  train_test_split\n",
    "from sklearn.compose import ColumnTransformer\n",
    "import matplotlib.pyplot as plt\n",
    "import seaborn as sns\n",
    "from sklearn.preprocessing import MinMaxScaler\n",
    "from sklearn.linear_model import LinearRegression\n",
    "from sklearn.metrics import mean_squared_error, r2_score"
   ]
  },
  {
   "cell_type": "markdown",
   "metadata": {},
   "source": [
    "### import Dataset"
   ]
  },
  {
   "cell_type": "code",
   "execution_count": 3,
   "metadata": {},
   "outputs": [
    {
     "data": {
      "text/html": [
       "<div>\n",
       "<style scoped>\n",
       "    .dataframe tbody tr th:only-of-type {\n",
       "        vertical-align: middle;\n",
       "    }\n",
       "\n",
       "    .dataframe tbody tr th {\n",
       "        vertical-align: top;\n",
       "    }\n",
       "\n",
       "    .dataframe thead th {\n",
       "        text-align: right;\n",
       "    }\n",
       "</style>\n",
       "<table border=\"1\" class=\"dataframe\">\n",
       "  <thead>\n",
       "    <tr style=\"text-align: right;\">\n",
       "      <th></th>\n",
       "      <th>R&amp;D Spend</th>\n",
       "      <th>Administration</th>\n",
       "      <th>Marketing Spend</th>\n",
       "      <th>State</th>\n",
       "      <th>Profit</th>\n",
       "    </tr>\n",
       "  </thead>\n",
       "  <tbody>\n",
       "    <tr>\n",
       "      <th>0</th>\n",
       "      <td>165349.20</td>\n",
       "      <td>136897.80</td>\n",
       "      <td>471784.10</td>\n",
       "      <td>New York</td>\n",
       "      <td>192261.83</td>\n",
       "    </tr>\n",
       "    <tr>\n",
       "      <th>1</th>\n",
       "      <td>162597.70</td>\n",
       "      <td>151377.59</td>\n",
       "      <td>443898.53</td>\n",
       "      <td>California</td>\n",
       "      <td>191792.06</td>\n",
       "    </tr>\n",
       "    <tr>\n",
       "      <th>2</th>\n",
       "      <td>153441.51</td>\n",
       "      <td>101145.55</td>\n",
       "      <td>407934.54</td>\n",
       "      <td>Florida</td>\n",
       "      <td>191050.39</td>\n",
       "    </tr>\n",
       "    <tr>\n",
       "      <th>3</th>\n",
       "      <td>144372.41</td>\n",
       "      <td>118671.85</td>\n",
       "      <td>383199.62</td>\n",
       "      <td>New York</td>\n",
       "      <td>182901.99</td>\n",
       "    </tr>\n",
       "    <tr>\n",
       "      <th>4</th>\n",
       "      <td>142107.34</td>\n",
       "      <td>91391.77</td>\n",
       "      <td>366168.42</td>\n",
       "      <td>Florida</td>\n",
       "      <td>166187.94</td>\n",
       "    </tr>\n",
       "  </tbody>\n",
       "</table>\n",
       "</div>"
      ],
      "text/plain": [
       "   R&D Spend  Administration  Marketing Spend       State     Profit\n",
       "0  165349.20       136897.80        471784.10    New York  192261.83\n",
       "1  162597.70       151377.59        443898.53  California  191792.06\n",
       "2  153441.51       101145.55        407934.54     Florida  191050.39\n",
       "3  144372.41       118671.85        383199.62    New York  182901.99\n",
       "4  142107.34        91391.77        366168.42     Florida  166187.94"
      ]
     },
     "execution_count": 3,
     "metadata": {},
     "output_type": "execute_result"
    }
   ],
   "source": [
    "df =pd.read_csv('50_Startups.csv')\n",
    "df.head()"
   ]
  },
  {
   "cell_type": "code",
   "execution_count": 4,
   "metadata": {},
   "outputs": [
    {
     "data": {
      "text/html": [
       "<div>\n",
       "<style scoped>\n",
       "    .dataframe tbody tr th:only-of-type {\n",
       "        vertical-align: middle;\n",
       "    }\n",
       "\n",
       "    .dataframe tbody tr th {\n",
       "        vertical-align: top;\n",
       "    }\n",
       "\n",
       "    .dataframe thead th {\n",
       "        text-align: right;\n",
       "    }\n",
       "</style>\n",
       "<table border=\"1\" class=\"dataframe\">\n",
       "  <thead>\n",
       "    <tr style=\"text-align: right;\">\n",
       "      <th></th>\n",
       "      <th>R&amp;D Spend</th>\n",
       "      <th>Administration</th>\n",
       "      <th>Marketing Spend</th>\n",
       "      <th>Profit</th>\n",
       "    </tr>\n",
       "  </thead>\n",
       "  <tbody>\n",
       "    <tr>\n",
       "      <th>count</th>\n",
       "      <td>50.000000</td>\n",
       "      <td>50.000000</td>\n",
       "      <td>50.000000</td>\n",
       "      <td>50.000000</td>\n",
       "    </tr>\n",
       "    <tr>\n",
       "      <th>mean</th>\n",
       "      <td>73721.615600</td>\n",
       "      <td>121344.639600</td>\n",
       "      <td>211025.097800</td>\n",
       "      <td>112012.639200</td>\n",
       "    </tr>\n",
       "    <tr>\n",
       "      <th>std</th>\n",
       "      <td>45902.256482</td>\n",
       "      <td>28017.802755</td>\n",
       "      <td>122290.310726</td>\n",
       "      <td>40306.180338</td>\n",
       "    </tr>\n",
       "    <tr>\n",
       "      <th>min</th>\n",
       "      <td>0.000000</td>\n",
       "      <td>51283.140000</td>\n",
       "      <td>0.000000</td>\n",
       "      <td>14681.400000</td>\n",
       "    </tr>\n",
       "    <tr>\n",
       "      <th>25%</th>\n",
       "      <td>39936.370000</td>\n",
       "      <td>103730.875000</td>\n",
       "      <td>129300.132500</td>\n",
       "      <td>90138.902500</td>\n",
       "    </tr>\n",
       "    <tr>\n",
       "      <th>50%</th>\n",
       "      <td>73051.080000</td>\n",
       "      <td>122699.795000</td>\n",
       "      <td>212716.240000</td>\n",
       "      <td>107978.190000</td>\n",
       "    </tr>\n",
       "    <tr>\n",
       "      <th>75%</th>\n",
       "      <td>101602.800000</td>\n",
       "      <td>144842.180000</td>\n",
       "      <td>299469.085000</td>\n",
       "      <td>139765.977500</td>\n",
       "    </tr>\n",
       "    <tr>\n",
       "      <th>max</th>\n",
       "      <td>165349.200000</td>\n",
       "      <td>182645.560000</td>\n",
       "      <td>471784.100000</td>\n",
       "      <td>192261.830000</td>\n",
       "    </tr>\n",
       "  </tbody>\n",
       "</table>\n",
       "</div>"
      ],
      "text/plain": [
       "           R&D Spend  Administration  Marketing Spend         Profit\n",
       "count      50.000000       50.000000        50.000000      50.000000\n",
       "mean    73721.615600   121344.639600    211025.097800  112012.639200\n",
       "std     45902.256482    28017.802755    122290.310726   40306.180338\n",
       "min         0.000000    51283.140000         0.000000   14681.400000\n",
       "25%     39936.370000   103730.875000    129300.132500   90138.902500\n",
       "50%     73051.080000   122699.795000    212716.240000  107978.190000\n",
       "75%    101602.800000   144842.180000    299469.085000  139765.977500\n",
       "max    165349.200000   182645.560000    471784.100000  192261.830000"
      ]
     },
     "execution_count": 4,
     "metadata": {},
     "output_type": "execute_result"
    }
   ],
   "source": [
    "df.describe()"
   ]
  },
  {
   "cell_type": "code",
   "execution_count": 5,
   "metadata": {},
   "outputs": [
    {
     "data": {
      "text/plain": [
       "R&D Spend          0\n",
       "Administration     0\n",
       "Marketing Spend    0\n",
       "State              0\n",
       "Profit             0\n",
       "dtype: int64"
      ]
     },
     "execution_count": 5,
     "metadata": {},
     "output_type": "execute_result"
    }
   ],
   "source": [
    "df.isna().sum()"
   ]
  },
  {
   "cell_type": "markdown",
   "metadata": {},
   "source": [
    "### Remove outliers if present"
   ]
  },
  {
   "cell_type": "code",
   "execution_count": 9,
   "metadata": {},
   "outputs": [
    {
     "data": {
      "image/png": "[encoded data removed]",
      "text/plain": [
       "<Figure size 640x480 with 1 Axes>"
      ]
     },
     "metadata": {},
     "output_type": "display_data"
    },
    {
     "data": {
      "image/png": "[encoded data removed]",
      "text/plain": [
       "<Figure size 640x480 with 1 Axes>"
      ]
     },
     "metadata": {},
     "output_type": "display_data"
    },
    {
     "data": {
      "image/png": "[encoded data removed]",
      "text/plain": [
       "<Figure size 640x480 with 1 Axes>"
      ]
     },
     "metadata": {},
     "output_type": "display_data"
    },
    {
     "data": {
      "text/plain": [
       "<Axes: ylabel='Profit'>"
      ]
     },
     "execution_count": 9,
     "metadata": {},
     "output_type": "execute_result"
    },
    {
     "data": {
      "image/png": "[encoded data removed]",
      "text/plain": [
       "<Figure size 640x480 with 1 Axes>"
      ]
     },
     "metadata": {},
     "output_type": "display_data"
    }
   ],
   "source": [
    "sns.boxplot(df['R&D Spend'])\n",
    "plt.show()\n",
    "sns.boxplot(df['Administration'])\n",
    "plt.show()\n",
    "\n",
    "sns.boxplot(df['Marketing Spend'])\n",
    "plt.show()\n",
    "\n",
    "\n",
    "sns.boxplot(df['Profit'])"
   ]
  },
  {
   "cell_type": "code",
   "execution_count": 13,
   "metadata": {},
   "outputs": [
    {
     "data": {
      "text/plain": [
       "(50, 5)"
      ]
     },
     "execution_count": 13,
     "metadata": {},
     "output_type": "execute_result"
    },
    {
     "data": {
      "image/png": "[encoded data removed]",
      "text/plain": [
       "<Figure size 640x480 with 1 Axes>"
      ]
     },
     "metadata": {},
     "output_type": "display_data"
    }
   ],
   "source": [
    "Q1 = df['Profit'].quantile(0.25)\n",
    "Q3 = df['Profit'].quantile(0.75)\n",
    "IQR = Q3 - Q1\n",
    "\n",
    "# Filter out the outliers\n",
    "filtered_df = df[(df['Profit'] >= (Q1 - 1.29 * IQR)) & (df['Profit'] <= (Q3 + 1.29 * IQR))]\n",
    "sns.boxplot(filtered_df['Profit'])\n",
    "df.head()\n",
    "df.shape"
   ]
  },
  {
   "cell_type": "code",
   "execution_count": 16,
   "metadata": {},
   "outputs": [
    {
     "data": {
      "text/plain": [
       "array(['New York', 'California', 'Florida'], dtype=object)"
      ]
     },
     "execution_count": 16,
     "metadata": {},
     "output_type": "execute_result"
    }
   ],
   "source": [
    "df['State'].unique()"
   ]
  },
  {
   "cell_type": "markdown",
   "metadata": {},
   "source": [
    "### Handle Catogrical data"
   ]
  },
  {
   "cell_type": "code",
   "execution_count": 18,
   "metadata": {},
   "outputs": [],
   "source": [
    "ct = ColumnTransformer(\n",
    "    transformers=([\n",
    "        ('state_transformed',OneHotEncoder(),['State'])\n",
    "    ])\n",
    "    ,remainder='passthrough'\n",
    "    )\n"
   ]
  },
  {
   "cell_type": "code",
   "execution_count": 19,
   "metadata": {},
   "outputs": [
    {
     "name": "stdout",
     "output_type": "stream",
     "text": [
      "   State_California  State_Florida  State_New York  R&D Spend  Administration  \\\n",
      "0               0.0            0.0             1.0  165349.20       136897.80   \n",
      "1               1.0            0.0             0.0  162597.70       151377.59   \n",
      "2               0.0            1.0             0.0  153441.51       101145.55   \n",
      "3               0.0            0.0             1.0  144372.41       118671.85   \n",
      "4               0.0            1.0             0.0  142107.34        91391.77   \n",
      "\n",
      "   Marketing Spend     Profit  \n",
      "0        471784.10  192261.83  \n",
      "1        443898.53  191792.06  \n",
      "2        407934.54  191050.39  \n",
      "3        383199.62  182901.99  \n",
      "4        366168.42  166187.94  \n"
     ]
    }
   ],
   "source": [
    "transformed = ct.fit_transform(df)\n",
    "\n",
    "# Get the names of the one-hot encoded columns\n",
    "ohe_columns = ct.named_transformers_['state_transformed'].get_feature_names_out(['State'])\n",
    "\n",
    "# Combine with the names of other columns (those that are passed through)\n",
    "remaining_columns = df.drop(columns=['State']).columns.tolist()  # Get the names of remaining columns\n",
    "all_columns = list(ohe_columns) + remaining_columns  # Combine all column names\n",
    "\n",
    "# Create the transformed DataFrame\n",
    "transformed_df = pd.DataFrame(transformed, columns=all_columns)\n",
    "\n",
    "# Display the transformed DataFrame\n",
    "print(transformed_df.head())"
   ]
  },
  {
   "cell_type": "markdown",
   "metadata": {},
   "source": [
    "### Scaling Dataset"
   ]
  },
  {
   "cell_type": "code",
   "execution_count": 21,
   "metadata": {},
   "outputs": [
    {
     "name": "stdout",
     "output_type": "stream",
     "text": [
      "(50, 7)\n"
     ]
    },
    {
     "data": {
      "text/html": [
       "<div>\n",
       "<style scoped>\n",
       "    .dataframe tbody tr th:only-of-type {\n",
       "        vertical-align: middle;\n",
       "    }\n",
       "\n",
       "    .dataframe tbody tr th {\n",
       "        vertical-align: top;\n",
       "    }\n",
       "\n",
       "    .dataframe thead th {\n",
       "        text-align: right;\n",
       "    }\n",
       "</style>\n",
       "<table border=\"1\" class=\"dataframe\">\n",
       "  <thead>\n",
       "    <tr style=\"text-align: right;\">\n",
       "      <th></th>\n",
       "      <th>scaled_RD_spend</th>\n",
       "      <th>scaled_admini</th>\n",
       "      <th>scaled_Mkt_spend</th>\n",
       "      <th>scaled_profit</th>\n",
       "      <th>State_California</th>\n",
       "      <th>State_Florida</th>\n",
       "      <th>State_New York</th>\n",
       "    </tr>\n",
       "  </thead>\n",
       "  <tbody>\n",
       "    <tr>\n",
       "      <th>0</th>\n",
       "      <td>2.016411</td>\n",
       "      <td>0.560753</td>\n",
       "      <td>2.153943</td>\n",
       "      <td>2.011203</td>\n",
       "      <td>0.0</td>\n",
       "      <td>0.0</td>\n",
       "      <td>1.0</td>\n",
       "    </tr>\n",
       "    <tr>\n",
       "      <th>1</th>\n",
       "      <td>1.955860</td>\n",
       "      <td>1.082807</td>\n",
       "      <td>1.923600</td>\n",
       "      <td>1.999430</td>\n",
       "      <td>1.0</td>\n",
       "      <td>0.0</td>\n",
       "      <td>0.0</td>\n",
       "    </tr>\n",
       "    <tr>\n",
       "      <th>2</th>\n",
       "      <td>1.754364</td>\n",
       "      <td>-0.728257</td>\n",
       "      <td>1.626528</td>\n",
       "      <td>1.980842</td>\n",
       "      <td>0.0</td>\n",
       "      <td>1.0</td>\n",
       "      <td>0.0</td>\n",
       "    </tr>\n",
       "    <tr>\n",
       "      <th>3</th>\n",
       "      <td>1.554784</td>\n",
       "      <td>-0.096365</td>\n",
       "      <td>1.422210</td>\n",
       "      <td>1.776627</td>\n",
       "      <td>0.0</td>\n",
       "      <td>0.0</td>\n",
       "      <td>1.0</td>\n",
       "    </tr>\n",
       "    <tr>\n",
       "      <th>4</th>\n",
       "      <td>1.504937</td>\n",
       "      <td>-1.079919</td>\n",
       "      <td>1.281528</td>\n",
       "      <td>1.357740</td>\n",
       "      <td>0.0</td>\n",
       "      <td>1.0</td>\n",
       "      <td>0.0</td>\n",
       "    </tr>\n",
       "  </tbody>\n",
       "</table>\n",
       "</div>"
      ],
      "text/plain": [
       "   scaled_RD_spend  scaled_admini  scaled_Mkt_spend  scaled_profit  \\\n",
       "0         2.016411       0.560753          2.153943       2.011203   \n",
       "1         1.955860       1.082807          1.923600       1.999430   \n",
       "2         1.754364      -0.728257          1.626528       1.980842   \n",
       "3         1.554784      -0.096365          1.422210       1.776627   \n",
       "4         1.504937      -1.079919          1.281528       1.357740   \n",
       "\n",
       "   State_California  State_Florida  State_New York  \n",
       "0               0.0            0.0             1.0  \n",
       "1               1.0            0.0             0.0  \n",
       "2               0.0            1.0             0.0  \n",
       "3               0.0            0.0             1.0  \n",
       "4               0.0            1.0             0.0  "
      ]
     },
     "execution_count": 21,
     "metadata": {},
     "output_type": "execute_result"
    }
   ],
   "source": [
    "scalar = StandardScaler()\n",
    "\n",
    "scaled_RD_spend = scalar.fit_transform(transformed_df[['R&D Spend']])\n",
    "scaled_admini= scalar.fit_transform(transformed_df[['Administration']])\n",
    "scaled_Mkt_spend = scalar.fit_transform(transformed_df[['Marketing Spend']])\n",
    "scaled_profit = scalar.fit_transform(transformed_df[['Profit']])\n",
    "\n",
    "# Create a DataFrame for scaled values\n",
    "scaled_df = pd.DataFrame({\n",
    "    'scaled_RD_spend': scaled_RD_spend.flatten(),\n",
    "    'scaled_admini': scaled_admini.flatten(),\n",
    "    'scaled_Mkt_spend': scaled_Mkt_spend.flatten(),\n",
    "    'scaled_profit': scaled_profit.flatten(),\n",
    "    'State_California': transformed_df['State_California'],\n",
    "    'State_Florida': transformed_df['State_Florida'],\n",
    "    'State_New York': transformed_df['State_New York']\n",
    "})\n",
    "\n",
    "# Display the shape of the scaled DataFrame\n",
    "print(scaled_df.shape)\n",
    "\n",
    "# Display the scaled DataFrame\n",
    "scaled_df.head()"
   ]
  },
  {
   "cell_type": "code",
   "execution_count": 22,
   "metadata": {},
   "outputs": [
    {
     "data": {
      "text/plain": [
       "scaled_RD_spend     0\n",
       "scaled_admini       0\n",
       "scaled_Mkt_spend    0\n",
       "scaled_profit       0\n",
       "State_California    0\n",
       "State_Florida       0\n",
       "State_New York      0\n",
       "dtype: int64"
      ]
     },
     "execution_count": 22,
     "metadata": {},
     "output_type": "execute_result"
    }
   ],
   "source": [
    "scaled_df.isna().sum()"
   ]
  },
  {
   "cell_type": "markdown",
   "metadata": {},
   "source": [
    "### Spliting Dataset"
   ]
  },
  {
   "cell_type": "code",
   "execution_count": 25,
   "metadata": {},
   "outputs": [
    {
     "name": "stdout",
     "output_type": "stream",
     "text": [
      "    scaled_RD_spend  scaled_admini  scaled_Mkt_spend  State_California  \\\n",
      "0          2.016411       0.560753          2.153943               0.0   \n",
      "1          1.955860       1.082807          1.923600               1.0   \n",
      "2          1.754364      -0.728257          1.626528               0.0   \n",
      "3          1.554784      -0.096365          1.422210               0.0   \n",
      "4          1.504937      -1.079919          1.281528               0.0   \n",
      "5          1.279800      -0.776239          1.254210               0.0   \n",
      "6          1.340066       0.932147         -0.688150               1.0   \n",
      "7          1.245057       0.871980          0.932186               0.0   \n",
      "8          1.030369       0.986952          0.830887               0.0   \n",
      "9          1.091819      -0.456640          0.776107               1.0   \n",
      "10         0.620398      -0.387599          0.149807               0.0   \n",
      "11         0.593085      -1.065540          0.319834               1.0   \n",
      "12         0.443260       0.215449          0.320617               0.0   \n",
      "13         0.402078       0.510179          0.343957               1.0   \n",
      "14         1.017181       1.269199          0.375742               0.0   \n",
      "15         0.897913       0.045868          0.419219               0.0   \n",
      "16         0.094441       0.009118          0.440446               1.0   \n",
      "17         0.460720       0.855666          0.591017               0.0   \n",
      "18         0.396725      -0.258465          0.692992               0.0   \n",
      "19         0.279442       1.159837         -1.743127               0.0   \n",
      "20         0.055726      -0.269588          0.723926               1.0   \n",
      "21         0.102724       1.169186          0.732788               0.0   \n",
      "22         0.006007       0.051850          0.762376               0.0   \n",
      "23        -0.136201      -0.562211          0.774349               0.0   \n",
      "24         0.073115      -0.795469         -0.581939               0.0   \n",
      "25        -0.199312       0.656489         -0.603517               1.0   \n",
      "26         0.035370       0.821718         -0.635835               0.0   \n",
      "27        -0.035519       0.235069          1.174271               0.0   \n",
      "28        -0.168793       2.210141         -0.767189               0.0   \n",
      "29        -0.178609       1.142457         -0.858134               0.0   \n",
      "30        -0.258074      -0.205629         -0.990357               0.0   \n",
      "31        -0.276958       1.130554         -1.014419               0.0   \n",
      "32        -0.226949       0.283924         -1.362450               1.0   \n",
      "33        -0.401129      -0.659324          0.029817               0.0   \n",
      "34        -0.600682       1.310535         -0.001879               1.0   \n",
      "35        -0.609750      -1.308658         -0.045493               0.0   \n",
      "36        -0.991570       0.205925         -0.081763               0.0   \n",
      "37        -0.652532      -2.525994         -0.115608               1.0   \n",
      "38        -1.177178      -1.997270         -0.212785               0.0   \n",
      "39        -0.773820      -1.383122         -0.297583               1.0   \n",
      "40        -0.989577      -0.100900         -0.315786               1.0   \n",
      "41        -1.008534      -1.320796         -0.384552               0.0   \n",
      "42        -1.102106      -0.906938         -0.520596               1.0   \n",
      "43        -1.281134       0.217682         -1.449605               0.0   \n",
      "44        -1.134305       1.206419         -1.509074               1.0   \n",
      "45        -1.600350       0.101254         -1.727400               0.0   \n",
      "46        -1.593413      -0.199322          0.711122               0.0   \n",
      "47        -1.622362       0.507722         -1.743127               1.0   \n",
      "48        -1.610433      -2.509409         -1.743127               0.0   \n",
      "49        -1.622362      -0.157226         -1.369985               1.0   \n",
      "\n",
      "    State_Florida  State_New York  \n",
      "0             0.0             1.0  \n",
      "1             0.0             0.0  \n",
      "2             1.0             0.0  \n",
      "3             0.0             1.0  \n",
      "4             1.0             0.0  \n",
      "5             0.0             1.0  \n",
      "6             0.0             0.0  \n",
      "7             1.0             0.0  \n",
      "8             0.0             1.0  \n",
      "9             0.0             0.0  \n",
      "10            1.0             0.0  \n",
      "11            0.0             0.0  \n",
      "12            1.0             0.0  \n",
      "13            0.0             0.0  \n",
      "14            1.0             0.0  \n",
      "15            0.0             1.0  \n",
      "16            0.0             0.0  \n",
      "17            0.0             1.0  \n",
      "18            1.0             0.0  \n",
      "19            0.0             1.0  \n",
      "20            0.0             0.0  \n",
      "21            0.0             1.0  \n",
      "22            1.0             0.0  \n",
      "23            1.0             0.0  \n",
      "24            0.0             1.0  \n",
      "25            0.0             0.0  \n",
      "26            1.0             0.0  \n",
      "27            0.0             1.0  \n",
      "28            1.0             0.0  \n",
      "29            0.0             1.0  \n",
      "30            1.0             0.0  \n",
      "31            0.0             1.0  \n",
      "32            0.0             0.0  \n",
      "33            1.0             0.0  \n",
      "34            0.0             0.0  \n",
      "35            0.0             1.0  \n",
      "36            1.0             0.0  \n",
      "37            0.0             0.0  \n",
      "38            0.0             1.0  \n",
      "39            0.0             0.0  \n",
      "40            0.0             0.0  \n",
      "41            1.0             0.0  \n",
      "42            0.0             0.0  \n",
      "43            0.0             1.0  \n",
      "44            0.0             0.0  \n",
      "45            0.0             1.0  \n",
      "46            1.0             0.0  \n",
      "47            0.0             0.0  \n",
      "48            0.0             1.0  \n",
      "49            0.0             0.0  \n",
      "    scaled_profit\n",
      "0        2.011203\n",
      "1        1.999430\n",
      "2        1.980842\n",
      "3        1.776627\n",
      "4        1.357740\n",
      "5        1.127250\n",
      "6        1.105481\n",
      "7        1.096210\n",
      "8        1.007470\n",
      "9        0.946022\n",
      "10       0.854847\n",
      "11       0.808168\n",
      "12       0.741155\n",
      "13       0.558750\n",
      "14       0.516026\n",
      "15       0.448720\n",
      "16       0.375436\n",
      "17       0.334771\n",
      "18       0.307116\n",
      "19       0.269773\n",
      "20       0.161935\n",
      "21      -0.017534\n",
      "22      -0.041613\n",
      "23      -0.082169\n",
      "24      -0.086729\n",
      "25      -0.115493\n",
      "26      -0.157367\n",
      "27      -0.175542\n",
      "28      -0.218798\n",
      "29      -0.275882\n",
      "30      -0.302625\n",
      "31      -0.364127\n",
      "32      -0.365524\n",
      "33      -0.381787\n",
      "34      -0.383444\n",
      "35      -0.389291\n",
      "36      -0.533932\n",
      "37      -0.552955\n",
      "38      -0.771497\n",
      "39      -0.777094\n",
      "40      -0.846411\n",
      "41      -0.857466\n",
      "42      -1.015365\n",
      "43      -1.058960\n",
      "44      -1.173209\n",
      "45      -1.180082\n",
      "46      -1.566922\n",
      "47      -1.740627\n",
      "48      -1.913212\n",
      "49      -2.439313\n"
     ]
    }
   ],
   "source": [
    "X = scaled_df.drop('scaled_profit',axis=1)\n",
    "print(X)\n",
    "y = scaled_df[['scaled_profit']]\n",
    "print(y)"
   ]
  },
  {
   "cell_type": "code",
   "execution_count": 26,
   "metadata": {},
   "outputs": [],
   "source": [
    "X_train,X_test,y_train,y_test = train_test_split(X,y,random_state=42,test_size=0.2)"
   ]
  },
  {
   "cell_type": "markdown",
   "metadata": {},
   "source": [
    "### model selection"
   ]
  },
  {
   "cell_type": "code",
   "execution_count": 27,
   "metadata": {},
   "outputs": [],
   "source": [
    "model = LinearRegression()"
   ]
  },
  {
   "cell_type": "code",
   "execution_count": 28,
   "metadata": {},
   "outputs": [
    {
     "data": {
      "text/html": [
       "<style>#sk-container-id-1 {color: black;}#sk-container-id-1 pre{padding: 0;}#sk-container-id-1 div.sk-toggleable {background-color: white;}#sk-container-id-1 label.sk-toggleable__label {cursor: pointer;display: block;width: 100%;margin-bottom: 0;padding: 0.3em;box-sizing: border-box;text-align: center;}#sk-container-id-1 label.sk-toggleable__label-arrow:before {content: \"▸\";float: left;margin-right: 0.25em;color: #696969;}#sk-container-id-1 label.sk-toggleable__label-arrow:hover:before {color: black;}#sk-container-id-1 div.sk-estimator:hover label.sk-toggleable__label-arrow:before {color: black;}#sk-container-id-1 div.sk-toggleable__content {max-height: 0;max-width: 0;overflow: hidden;text-align: left;background-color: #f0f8ff;}#sk-container-id-1 div.sk-toggleable__content pre {margin: 0.2em;color: black;border-radius: 0.25em;background-color: #f0f8ff;}#sk-container-id-1 input.sk-toggleable__control:checked~div.sk-toggleable__content {max-height: 200px;max-width: 100%;overflow: auto;}#sk-container-id-1 input.sk-toggleable__control:checked~label.sk-toggleable__label-arrow:before {content: \"▾\";}#sk-container-id-1 div.sk-estimator input.sk-toggleable__control:checked~label.sk-toggleable__label {background-color: #d4ebff;}#sk-container-id-1 div.sk-label input.sk-toggleable__control:checked~label.sk-toggleable__label {background-color: #d4ebff;}#sk-container-id-1 input.sk-hidden--visually {border: 0;clip: rect(1px 1px 1px 1px);clip: rect(1px, 1px, 1px, 1px);height: 1px;margin: -1px;overflow: hidden;padding: 0;position: absolute;width: 1px;}#sk-container-id-1 div.sk-estimator {font-family: monospace;background-color: #f0f8ff;border: 1px dotted black;border-radius: 0.25em;box-sizing: border-box;margin-bottom: 0.5em;}#sk-container-id-1 div.sk-estimator:hover {background-color: #d4ebff;}#sk-container-id-1 div.sk-parallel-item::after {content: \"\";width: 100%;border-bottom: 1px solid gray;flex-grow: 1;}#sk-container-id-1 div.sk-label:hover label.sk-toggleable__label {background-color: #d4ebff;}#sk-container-id-1 div.sk-serial::before {content: \"\";position: absolute;border-left: 1px solid gray;box-sizing: border-box;top: 0;bottom: 0;left: 50%;z-index: 0;}#sk-container-id-1 div.sk-serial {display: flex;flex-direction: column;align-items: center;background-color: white;padding-right: 0.2em;padding-left: 0.2em;position: relative;}#sk-container-id-1 div.sk-item {position: relative;z-index: 1;}#sk-container-id-1 div.sk-parallel {display: flex;align-items: stretch;justify-content: center;background-color: white;position: relative;}#sk-container-id-1 div.sk-item::before, #sk-container-id-1 div.sk-parallel-item::before {content: \"\";position: absolute;border-left: 1px solid gray;box-sizing: border-box;top: 0;bottom: 0;left: 50%;z-index: -1;}#sk-container-id-1 div.sk-parallel-item {display: flex;flex-direction: column;z-index: 1;position: relative;background-color: white;}#sk-container-id-1 div.sk-parallel-item:first-child::after {align-self: flex-end;width: 50%;}#sk-container-id-1 div.sk-parallel-item:last-child::after {align-self: flex-start;width: 50%;}#sk-container-id-1 div.sk-parallel-item:only-child::after {width: 0;}#sk-container-id-1 div.sk-dashed-wrapped {border: 1px dashed gray;margin: 0 0.4em 0.5em 0.4em;box-sizing: border-box;padding-bottom: 0.4em;background-color: white;}#sk-container-id-1 div.sk-label label {font-family: monospace;font-weight: bold;display: inline-block;line-height: 1.2em;}#sk-container-id-1 div.sk-label-container {text-align: center;}#sk-container-id-1 div.sk-container {/* jupyter's `normalize.less` sets `[hidden] { display: none; }` but bootstrap.min.css set `[hidden] { display: none !important; }` so we also need the `!important` here to be able to override the default hidden behavior on the sphinx rendered scikit-learn.org. See: https://github.com/scikit-learn/scikit-learn/issues/21755 */display: inline-block !important;position: relative;}#sk-container-id-1 div.sk-text-repr-fallback {display: none;}</style><div id=\"sk-container-id-1\" class=\"sk-top-container\"><div class=\"sk-text-repr-fallback\"><pre>LinearRegression()</pre><b>In a Jupyter environment, please rerun this cell to show the HTML representation or trust the notebook. <br />On GitHub, the HTML representation is unable to render, please try loading this page with nbviewer.org.</b></div><div class=\"sk-container\" hidden><div class=\"sk-item\"><div class=\"sk-estimator sk-toggleable\"><input class=\"sk-toggleable__control sk-hidden--visually\" id=\"sk-estimator-id-1\" type=\"checkbox\" checked><label for=\"sk-estimator-id-1\" class=\"sk-toggleable__label sk-toggleable__label-arrow\">LinearRegression</label><div class=\"sk-toggleable__content\"><pre>LinearRegression()</pre></div></div></div></div></div>"
      ],
      "text/plain": [
       "LinearRegression()"
      ]
     },
     "execution_count": 28,
     "metadata": {},
     "output_type": "execute_result"
    }
   ],
   "source": [
    "model.fit(X_train, y_train)\n"
   ]
  },
  {
   "cell_type": "code",
   "execution_count": 29,
   "metadata": {},
   "outputs": [],
   "source": [
    "y_predict = model.predict(X_test)"
   ]
  },
  {
   "cell_type": "markdown",
   "metadata": {},
   "source": [
    "### Model Evalution"
   ]
  },
  {
   "cell_type": "code",
   "execution_count": 30,
   "metadata": {},
   "outputs": [
    {
     "name": "stdout",
     "output_type": "stream",
     "text": [
      "Mean Squared Error: 0.051510927688072985\n",
      "R-squared: 0.8987266414319838\n"
     ]
    }
   ],
   "source": [
    "# Evaluate the model\n",
    "mse = mean_squared_error(y_test, y_predict)  # Mean Squared Error\n",
    "r2 = r2_score(y_test, y_predict)  # R-squared value\n",
    "\n",
    "# Output the results\n",
    "print(f\"Mean Squared Error: {mse}\")\n",
    "print(f\"R-squared: {r2}\")"
   ]
  }
 ],
 "metadata": {
  "kernelspec": {
   "display_name": "Python 3",
   "language": "python",
   "name": "python3"
  },
  "language_info": {
   "codemirror_mode": {
    "name": "ipython",
    "version": 3
   },
   "file_extension": ".py",
   "mimetype": "text/x-python",
   "name": "python",
   "nbconvert_exporter": "python",
   "pygments_lexer": "ipython3",
   "version": "3.8.10"
  }
 },
 "nbformat": 4,
 "nbformat_minor": 2
}
